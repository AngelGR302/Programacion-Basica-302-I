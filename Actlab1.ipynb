{
  "nbformat": 4,
  "nbformat_minor": 0,
  "metadata": {
    "colab": {
      "provenance": [],
      "authorship_tag": "ABX9TyOJvAXevBCcnAaYwL4bie/O",
      "include_colab_link": true
    },
    "kernelspec": {
      "name": "python3",
      "display_name": "Python 3"
    },
    "language_info": {
      "name": "python"
    }
  },
  "cells": [
    {
      "cell_type": "markdown",
      "metadata": {
        "id": "view-in-github",
        "colab_type": "text"
      },
      "source": [
        "<a href=\"https://colab.research.google.com/github/AngelGR302/Programacion-Basica-302-I/blob/main/Actlab1.ipynb\" target=\"_parent\"><img src=\"https://colab.research.google.com/assets/colab-badge.svg\" alt=\"Open In Colab\"/></a>"
      ]
    },
    {
      "cell_type": "code",
      "source": [],
      "metadata": {
        "id": "9qoPTAwKmQaM"
      },
      "execution_count": null,
      "outputs": []
    },
    {
      "cell_type": "markdown",
      "source": [
        "actividad  de laboratorio y impresiones de mensaje"
      ],
      "metadata": {
        "id": "nNBfhn68xxrA"
      }
    },
    {
      "cell_type": "markdown",
      "source": [
        "pb302_1.cpp programa para bienvenida"
      ],
      "metadata": {
        "id": "OyPHdV59maV0"
      }
    },
    {
      "cell_type": "code",
      "execution_count": 6,
      "metadata": {
        "colab": {
          "base_uri": "https://localhost:8080/"
        },
        "id": "LXpdYpuulwYM",
        "outputId": "016c6947-4826-4ac3-8706-a323d374b342"
      },
      "outputs": [
        {
          "output_type": "stream",
          "name": "stdout",
          "text": [
            "Overwriting PB302_1.cpp\n"
          ]
        }
      ],
      "source": [
        "%%writefile PB302_1.cpp\n",
        "//programa para imprimir mensaje de bienvenida\n",
        "//creador por angel adrian gonzalez rosas\n",
        "//fecha:15/septiembre/2025\n",
        "//PB302_1.cpp\n",
        "#include <iostream>\n",
        "using namespace std;\n",
        "int main()\n",
        "{\n",
        "  cout<<\"bienvenido angel a programacion basica en c++\\n\";\n",
        "  cout<<\"gracias por programar en clases\";\n",
        "  return 0;\n",
        "}"
      ]
    },
    {
      "cell_type": "code",
      "source": [
        "!g++ PB302_1.cpp -o PB302_1\n",
        "!./PB302_1"
      ],
      "metadata": {
        "colab": {
          "base_uri": "https://localhost:8080/"
        },
        "id": "t-RCXI_Fp9Cj",
        "outputId": "044fdcbe-1e16-46f1-feba-8898e1d4f9da"
      },
      "execution_count": 7,
      "outputs": [
        {
          "output_type": "stream",
          "name": "stdout",
          "text": [
            "bienvenido angel a programacion basica en c++\n",
            "gracias por programar en clases"
          ]
        }
      ]
    }
  ]
}